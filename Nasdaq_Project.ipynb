{
 "cells": [
  {
   "cell_type": "code",
   "execution_count": 2,
   "id": "1a7717fc-1ffb-4700-b2d7-805bd2ebbf79",
   "metadata": {},
   "outputs": [
    {
     "name": "stdout",
     "output_type": "stream",
     "text": [
      "Collecting kagglehub\n",
      "  Using cached kagglehub-0.3.4-py3-none-any.whl.metadata (22 kB)\n",
      "Requirement already satisfied: packaging in /opt/conda/lib/python3.11/site-packages (from kagglehub) (23.2)\n",
      "Requirement already satisfied: requests in /opt/conda/lib/python3.11/site-packages (from kagglehub) (2.31.0)\n",
      "Requirement already satisfied: tqdm in /opt/conda/lib/python3.11/site-packages (from kagglehub) (4.66.1)\n",
      "Requirement already satisfied: charset-normalizer<4,>=2 in /opt/conda/lib/python3.11/site-packages (from requests->kagglehub) (3.3.0)\n",
      "Requirement already satisfied: idna<4,>=2.5 in /opt/conda/lib/python3.11/site-packages (from requests->kagglehub) (3.4)\n",
      "Requirement already satisfied: urllib3<3,>=1.21.1 in /opt/conda/lib/python3.11/site-packages (from requests->kagglehub) (2.0.7)\n",
      "Requirement already satisfied: certifi>=2017.4.17 in /opt/conda/lib/python3.11/site-packages (from requests->kagglehub) (2023.7.22)\n",
      "Using cached kagglehub-0.3.4-py3-none-any.whl (43 kB)\n",
      "Installing collected packages: kagglehub\n",
      "Successfully installed kagglehub-0.3.4\n",
      "Note: you may need to restart the kernel to use updated packages.\n"
     ]
    }
   ],
   "source": [
    "pip install kagglehub"
   ]
  },
  {
   "cell_type": "code",
   "execution_count": 4,
   "id": "e084b9d1-0ad1-42ab-8791-d8e7824ff2fe",
   "metadata": {},
   "outputs": [
    {
     "name": "stdout",
     "output_type": "stream",
     "text": [
      "Collecting yfinance\n",
      "  Using cached yfinance-0.2.50-py2.py3-none-any.whl.metadata (5.5 kB)\n",
      "Requirement already satisfied: pandas>=1.3.0 in /opt/conda/lib/python3.11/site-packages (from yfinance) (2.1.1)\n",
      "Requirement already satisfied: numpy>=1.16.5 in /opt/conda/lib/python3.11/site-packages (from yfinance) (1.24.4)\n",
      "Requirement already satisfied: requests>=2.31 in /opt/conda/lib/python3.11/site-packages (from yfinance) (2.31.0)\n",
      "Collecting multitasking>=0.0.7 (from yfinance)\n",
      "  Using cached multitasking-0.0.11-py3-none-any.whl.metadata (5.5 kB)\n",
      "Collecting lxml>=4.9.1 (from yfinance)\n",
      "  Using cached lxml-5.3.0-cp311-cp311-manylinux_2_28_x86_64.whl.metadata (3.8 kB)\n",
      "Requirement already satisfied: platformdirs>=2.0.0 in /opt/conda/lib/python3.11/site-packages (from yfinance) (3.11.0)\n",
      "Requirement already satisfied: pytz>=2022.5 in /opt/conda/lib/python3.11/site-packages (from yfinance) (2023.3.post1)\n",
      "Collecting frozendict>=2.3.4 (from yfinance)\n",
      "  Using cached frozendict-2.4.6-py311-none-any.whl.metadata (23 kB)\n",
      "Collecting peewee>=3.16.2 (from yfinance)\n",
      "  Using cached peewee-3.17.8-cp311-cp311-linux_x86_64.whl\n",
      "Requirement already satisfied: beautifulsoup4>=4.11.1 in /opt/conda/lib/python3.11/site-packages (from yfinance) (4.12.2)\n",
      "Collecting html5lib>=1.1 (from yfinance)\n",
      "  Using cached html5lib-1.1-py2.py3-none-any.whl.metadata (16 kB)\n",
      "Requirement already satisfied: soupsieve>1.2 in /opt/conda/lib/python3.11/site-packages (from beautifulsoup4>=4.11.1->yfinance) (2.5)\n",
      "Requirement already satisfied: six>=1.9 in /opt/conda/lib/python3.11/site-packages (from html5lib>=1.1->yfinance) (1.16.0)\n",
      "Requirement already satisfied: webencodings in /opt/conda/lib/python3.11/site-packages (from html5lib>=1.1->yfinance) (0.5.1)\n",
      "Requirement already satisfied: python-dateutil>=2.8.2 in /opt/conda/lib/python3.11/site-packages (from pandas>=1.3.0->yfinance) (2.8.2)\n",
      "Requirement already satisfied: tzdata>=2022.1 in /opt/conda/lib/python3.11/site-packages (from pandas>=1.3.0->yfinance) (2023.3)\n",
      "Requirement already satisfied: charset-normalizer<4,>=2 in /opt/conda/lib/python3.11/site-packages (from requests>=2.31->yfinance) (3.3.0)\n",
      "Requirement already satisfied: idna<4,>=2.5 in /opt/conda/lib/python3.11/site-packages (from requests>=2.31->yfinance) (3.4)\n",
      "Requirement already satisfied: urllib3<3,>=1.21.1 in /opt/conda/lib/python3.11/site-packages (from requests>=2.31->yfinance) (2.0.7)\n",
      "Requirement already satisfied: certifi>=2017.4.17 in /opt/conda/lib/python3.11/site-packages (from requests>=2.31->yfinance) (2023.7.22)\n",
      "Using cached yfinance-0.2.50-py2.py3-none-any.whl (102 kB)\n",
      "Using cached frozendict-2.4.6-py311-none-any.whl (16 kB)\n",
      "Using cached html5lib-1.1-py2.py3-none-any.whl (112 kB)\n",
      "Using cached lxml-5.3.0-cp311-cp311-manylinux_2_28_x86_64.whl (5.0 MB)\n",
      "Using cached multitasking-0.0.11-py3-none-any.whl (8.5 kB)\n",
      "Installing collected packages: peewee, multitasking, lxml, html5lib, frozendict, yfinance\n",
      "Successfully installed frozendict-2.4.6 html5lib-1.1 lxml-5.3.0 multitasking-0.0.11 peewee-3.17.8 yfinance-0.2.50\n",
      "Note: you may need to restart the kernel to use updated packages.\n"
     ]
    }
   ],
   "source": [
    "pip install yfinance"
   ]
  },
  {
   "cell_type": "code",
   "execution_count": null,
   "id": "4a2da877-fa42-4223-85a0-ced60928a1dd",
   "metadata": {},
   "outputs": [],
   "source": [
    "pip install ipywidgets"
   ]
  },
  {
   "cell_type": "code",
   "execution_count": 6,
   "id": "7a387e67-d202-4591-8042-f00ae3b6320f",
   "metadata": {},
   "outputs": [
    {
     "name": "stdout",
     "output_type": "stream",
     "text": [
      "Collecting streamlit\n",
      "  Using cached streamlit-1.40.2-py2.py3-none-any.whl.metadata (8.4 kB)\n",
      "Requirement already satisfied: altair<6,>=4.0 in /opt/conda/lib/python3.11/site-packages (from streamlit) (5.1.2)\n",
      "Requirement already satisfied: blinker<2,>=1.0.0 in /opt/conda/lib/python3.11/site-packages (from streamlit) (1.6.3)\n",
      "Collecting cachetools<6,>=4.0 (from streamlit)\n",
      "  Using cached cachetools-5.5.0-py3-none-any.whl.metadata (5.3 kB)\n",
      "Requirement already satisfied: click<9,>=7.0 in /opt/conda/lib/python3.11/site-packages (from streamlit) (8.1.7)\n",
      "Requirement already satisfied: numpy<3,>=1.23 in /opt/conda/lib/python3.11/site-packages (from streamlit) (1.24.4)\n",
      "Requirement already satisfied: packaging<25,>=20 in /opt/conda/lib/python3.11/site-packages (from streamlit) (23.2)\n",
      "Requirement already satisfied: pandas<3,>=1.4.0 in /opt/conda/lib/python3.11/site-packages (from streamlit) (2.1.1)\n",
      "Requirement already satisfied: pillow<12,>=7.1.0 in /opt/conda/lib/python3.11/site-packages (from streamlit) (10.1.0)\n",
      "Requirement already satisfied: protobuf<6,>=3.20 in /opt/conda/lib/python3.11/site-packages (from streamlit) (4.24.3)\n",
      "Requirement already satisfied: pyarrow>=7.0 in /opt/conda/lib/python3.11/site-packages (from streamlit) (13.0.0)\n",
      "Requirement already satisfied: requests<3,>=2.27 in /opt/conda/lib/python3.11/site-packages (from streamlit) (2.31.0)\n",
      "Collecting rich<14,>=10.14.0 (from streamlit)\n",
      "  Using cached rich-13.9.4-py3-none-any.whl.metadata (18 kB)\n",
      "Collecting tenacity<10,>=8.1.0 (from streamlit)\n",
      "  Using cached tenacity-9.0.0-py3-none-any.whl.metadata (1.2 kB)\n",
      "Collecting toml<2,>=0.10.1 (from streamlit)\n",
      "  Using cached toml-0.10.2-py2.py3-none-any.whl.metadata (7.1 kB)\n",
      "Requirement already satisfied: typing-extensions<5,>=4.3.0 in /opt/conda/lib/python3.11/site-packages (from streamlit) (4.8.0)\n",
      "Collecting watchdog<7,>=2.1.5 (from streamlit)\n",
      "  Using cached watchdog-6.0.0-py3-none-manylinux2014_x86_64.whl.metadata (44 kB)\n",
      "Requirement already satisfied: gitpython!=3.1.19,<4,>=3.0.7 in /opt/conda/lib/python3.11/site-packages (from streamlit) (3.1.40)\n",
      "Collecting pydeck<1,>=0.8.0b4 (from streamlit)\n",
      "  Using cached pydeck-0.9.1-py2.py3-none-any.whl.metadata (4.1 kB)\n",
      "Requirement already satisfied: tornado<7,>=6.0.3 in /opt/conda/lib/python3.11/site-packages (from streamlit) (6.3.3)\n",
      "Requirement already satisfied: jinja2 in /opt/conda/lib/python3.11/site-packages (from altair<6,>=4.0->streamlit) (3.1.2)\n",
      "Requirement already satisfied: jsonschema>=3.0 in /opt/conda/lib/python3.11/site-packages (from altair<6,>=4.0->streamlit) (4.19.1)\n",
      "Requirement already satisfied: toolz in /opt/conda/lib/python3.11/site-packages (from altair<6,>=4.0->streamlit) (0.12.0)\n",
      "Requirement already satisfied: gitdb<5,>=4.0.1 in /opt/conda/lib/python3.11/site-packages (from gitpython!=3.1.19,<4,>=3.0.7->streamlit) (4.0.10)\n",
      "Requirement already satisfied: python-dateutil>=2.8.2 in /opt/conda/lib/python3.11/site-packages (from pandas<3,>=1.4.0->streamlit) (2.8.2)\n",
      "Requirement already satisfied: pytz>=2020.1 in /opt/conda/lib/python3.11/site-packages (from pandas<3,>=1.4.0->streamlit) (2023.3.post1)\n",
      "Requirement already satisfied: tzdata>=2022.1 in /opt/conda/lib/python3.11/site-packages (from pandas<3,>=1.4.0->streamlit) (2023.3)\n",
      "Requirement already satisfied: charset-normalizer<4,>=2 in /opt/conda/lib/python3.11/site-packages (from requests<3,>=2.27->streamlit) (3.3.0)\n",
      "Requirement already satisfied: idna<4,>=2.5 in /opt/conda/lib/python3.11/site-packages (from requests<3,>=2.27->streamlit) (3.4)\n",
      "Requirement already satisfied: urllib3<3,>=1.21.1 in /opt/conda/lib/python3.11/site-packages (from requests<3,>=2.27->streamlit) (2.0.7)\n",
      "Requirement already satisfied: certifi>=2017.4.17 in /opt/conda/lib/python3.11/site-packages (from requests<3,>=2.27->streamlit) (2023.7.22)\n",
      "Collecting markdown-it-py>=2.2.0 (from rich<14,>=10.14.0->streamlit)\n",
      "  Using cached markdown_it_py-3.0.0-py3-none-any.whl.metadata (6.9 kB)\n",
      "Requirement already satisfied: pygments<3.0.0,>=2.13.0 in /opt/conda/lib/python3.11/site-packages (from rich<14,>=10.14.0->streamlit) (2.16.1)\n",
      "Requirement already satisfied: smmap<6,>=3.0.1 in /opt/conda/lib/python3.11/site-packages (from gitdb<5,>=4.0.1->gitpython!=3.1.19,<4,>=3.0.7->streamlit) (3.0.5)\n",
      "Requirement already satisfied: MarkupSafe>=2.0 in /opt/conda/lib/python3.11/site-packages (from jinja2->altair<6,>=4.0->streamlit) (2.1.3)\n",
      "Requirement already satisfied: attrs>=22.2.0 in /opt/conda/lib/python3.11/site-packages (from jsonschema>=3.0->altair<6,>=4.0->streamlit) (23.1.0)\n",
      "Requirement already satisfied: jsonschema-specifications>=2023.03.6 in /opt/conda/lib/python3.11/site-packages (from jsonschema>=3.0->altair<6,>=4.0->streamlit) (2023.7.1)\n",
      "Requirement already satisfied: referencing>=0.28.4 in /opt/conda/lib/python3.11/site-packages (from jsonschema>=3.0->altair<6,>=4.0->streamlit) (0.30.2)\n",
      "Requirement already satisfied: rpds-py>=0.7.1 in /opt/conda/lib/python3.11/site-packages (from jsonschema>=3.0->altair<6,>=4.0->streamlit) (0.10.6)\n",
      "Collecting mdurl~=0.1 (from markdown-it-py>=2.2.0->rich<14,>=10.14.0->streamlit)\n",
      "  Using cached mdurl-0.1.2-py3-none-any.whl.metadata (1.6 kB)\n",
      "Requirement already satisfied: six>=1.5 in /opt/conda/lib/python3.11/site-packages (from python-dateutil>=2.8.2->pandas<3,>=1.4.0->streamlit) (1.16.0)\n",
      "Using cached streamlit-1.40.2-py2.py3-none-any.whl (8.6 MB)\n",
      "Using cached cachetools-5.5.0-py3-none-any.whl (9.5 kB)\n",
      "Using cached pydeck-0.9.1-py2.py3-none-any.whl (6.9 MB)\n",
      "Using cached rich-13.9.4-py3-none-any.whl (242 kB)\n",
      "Using cached tenacity-9.0.0-py3-none-any.whl (28 kB)\n",
      "Using cached toml-0.10.2-py2.py3-none-any.whl (16 kB)\n",
      "Using cached watchdog-6.0.0-py3-none-manylinux2014_x86_64.whl (79 kB)\n",
      "Using cached markdown_it_py-3.0.0-py3-none-any.whl (87 kB)\n",
      "Using cached mdurl-0.1.2-py3-none-any.whl (10.0 kB)\n",
      "Installing collected packages: watchdog, toml, tenacity, mdurl, cachetools, pydeck, markdown-it-py, rich, streamlit\n",
      "Successfully installed cachetools-5.5.0 markdown-it-py-3.0.0 mdurl-0.1.2 pydeck-0.9.1 rich-13.9.4 streamlit-1.40.2 tenacity-9.0.0 toml-0.10.2 watchdog-6.0.0\n",
      "Note: you may need to restart the kernel to use updated packages.\n"
     ]
    }
   ],
   "source": [
    "pip install streamlit"
   ]
  },
  {
   "cell_type": "code",
   "execution_count": 7,
   "id": "5d36ba24-c36c-4da3-8757-a57a5271124b",
   "metadata": {},
   "outputs": [],
   "source": [
    "import os\n",
    "import pandas as pd\n",
    "import kagglehub\n",
    "import dask.dataframe as dd\n",
    "import matplotlib.pyplot as plt\n",
    "import seaborn as sns\n",
    "from ipywidgets import widgets, interact\n",
    "from datetime import datetime\n",
    "import yfinance as yf\n",
    "import streamlit as st"
   ]
  },
  {
   "cell_type": "code",
   "execution_count": 8,
   "id": "0674ace1-9727-44dc-a2a8-65ca96bdfd2f",
   "metadata": {},
   "outputs": [
    {
     "data": {
      "application/vnd.jupyter.widget-view+json": {
       "model_id": "436044bf3c624657891093550a6e586d",
       "version_major": 2,
       "version_minor": 0
      },
      "text/plain": [
       "Combobox(value='', description='Combobox:', ensure_option=True, options=('Agilent Technologies, Inc. Common St…"
      ]
     },
     "metadata": {},
     "output_type": "display_data"
    }
   ],
   "source": [
    "# Path to dataset folder\n",
    "main_path = kagglehub.dataset_download(\"jacksoncrow/stock-market-dataset\")\n",
    "path = main_path + \"/stocks\"\n",
    "path_dict = kagglehub.dataset_download(\"gonzalezfrancisco/full-nasdaq-stocks-data\")\n",
    "# Load the validation csv with company names\n",
    "symbols_csv_path = path_dict + \"/dividend_stocks_only.csv\"\n",
    "symbols_df = pd.read_csv(symbols_csv_path)\n",
    "\n",
    "# Initialize combined_df as an empty dataframe\n",
    "combined_df = pd.DataFrame()\n",
    "\n",
    "# Create a dropdown for the end user to select a company\n",
    "company_selector = widgets.Combobox(\n",
    "    placeholder=\"Choose company to analyse\",\n",
    "    options=symbols_df[\"security_name\"].tolist(),\n",
    "    description=\"Combobox:\",\n",
    "    ensure_option=True,\n",
    "    disabled=False\n",
    ")\n",
    "\n",
    "# Function to update based on the selected company\n",
    "def update(selected_company):\n",
    "    global combined_df #makes sure it updates Combined_df outside the function\n",
    "    if selected_company:\n",
    "        selected_industry = symbols_df[symbols_df[\"security_name\"] == selected_company][\"sector\"].values\n",
    "        if selected_industry.size > 0:\n",
    "            selected_industry = selected_industry[0]\n",
    "            \n",
    "            # Ensure the selected company is included and shown first\n",
    "            selected_company_row = symbols_df[symbols_df[\"security_name\"] == selected_company]\n",
    "            top_symbols_df = symbols_df[symbols_df[\"sector\"] == selected_industry].head(4)\n",
    "            top_symbols_df = pd.concat([selected_company_row, top_symbols_df]).drop_duplicates().head(5)\n",
    "            \n",
    "            symbol_to_company = top_symbols_df.set_index(\"symbol\")[\"security_name\"].to_dict()\n",
    "            csv_files = [f for f in os.listdir(path) if os.path.splitext(f)[0] in symbol_to_company]\n",
    "\n",
    "            dfs = []\n",
    "            for file in csv_files:\n",
    "                symbol = os.path.splitext(file)[0]  # Extract the stock symbol from the filename\n",
    "                df = pd.read_csv(os.path.join(path, file))\n",
    "                df[\"Symbol\"] = symbol\n",
    "                df[\"Company Name\"] = symbol_to_company.get(symbol, \"Unknown\")  # Add company name\n",
    "                dfs.append(df)\n",
    "\n",
    "            combined_df = pd.concat(dfs, ignore_index=True)\n",
    "            \n",
    "            # Ensure the selected company rows are at the top\n",
    "            combined_df = pd.concat([combined_df[combined_df[\"Symbol\"] == selected_company_row[\"symbol\"].values[0]], \n",
    "                                     combined_df[combined_df[\"Symbol\"] != selected_company_row[\"symbol\"].values[0]]])\n",
    "\n",
    "            print(f\"Companies in the same industry as {selected_company} ({selected_industry}):\")\n",
    "            display(top_symbols_df)\n",
    "        else:\n",
    "            print(\"Selected company not found. Please choose a valid company from the dropdown.\")\n",
    "    else:\n",
    "        print(\"Please select a company from the dropdown.\")\n",
    "\n",
    "# Add observer to the combobox to trigger update on change\n",
    "company_selector.observe(lambda change: update(change.new), names=\"value\")\n",
    "\n",
    "# Display the combobox\n",
    "display(company_selector)\n"
   ]
  },
  {
   "cell_type": "code",
   "execution_count": 9,
   "id": "1d5fc7c3-51dd-4e2f-8aea-46cc0c13e54b",
   "metadata": {},
   "outputs": [
    {
     "data": {
      "text/plain": [
       "{'Business Description': 'ACCO Brands Corporation designs, manufactures, and markets consumer, school, technology, and office products. It operates through three segments: ACCO Brands North America, ACCO Brands EMEA, and ACCO Brands International. The company provides computer and gaming accessories, planners, dry erase boards, school notebooks, and janitorial supplies; storage and organization products, such as lever-arch binders, sheet protectors, and indexes; sheet protectors and indexes; laminating, binding, and shredding machines; writing instruments and art products; stapling and punching products; and do-it-yourself tools. It offers its products under the AT-A-GLANCE, Barrilito, Derwent, Esselte, Five Star, Foroni, GBC, Hilroy, Kensington, Leitz, Marbig, Mead, NOBO, PowerA, Quartet, Rapid, Rexel, Swingline, Tilibra, Artline, and Spirax brand names. The company markets and sells its products through various channels, including mass retailers, e-tailers, discount, drug/grocery, and variety chains; warehouse clubs; hardware and specialty stores; independent office product dealers; office superstores; wholesalers; contract stationers; and technology specialty businesses, as well as sells products directly to commercial and consumer end-users through its e-commerce platform and direct sales organization. The company was founded in 1893 and is headquartered in Lake Zurich, Illinois.',\n",
       " 'Full Time Employees': 5600,\n",
       " 'Latest Total Revenue (Millions)': 1706.7,\n",
       " 'Currency': 'USD',\n",
       " 'industry': 'Business Equipment & Supplies'}"
      ]
     },
     "execution_count": 9,
     "metadata": {},
     "output_type": "execute_result"
    }
   ],
   "source": [
    "#Use Yfinance to get basic company info based on the selected company based on the company symbol\n",
    "\n",
    "def get_company_info(symbol):\n",
    "    company = yf.Ticker(symbol)\n",
    "    info = company.info\n",
    "\n",
    "    company_info = {\n",
    "        \"Business Description\": info.get(\"longBusinessSummary\", \"Not available\"),\n",
    "        \"Full Time Employees\": info.get(\"fullTimeEmployees\", \"Not available\"),\n",
    "        \"Latest Total Revenue (Millions)\": round(info.get(\"totalRevenue\",\"Not available\")/1_000_000,2),\n",
    "        \"Currency\": info.get(\"currency\",\"Not available\"),\n",
    "        \"industry\": info.get(\"industry\",\"Not available\")\n",
    "    }\n",
    "    \n",
    "    return company_info\n",
    "\n",
    "get_company_info(combined_df.iloc[0][\"Symbol\"])"
   ]
  },
  {
   "cell_type": "code",
   "execution_count": 13,
   "id": "a85aaae1-34e2-4aeb-a22d-5944bf310c0f",
   "metadata": {},
   "outputs": [
    {
     "data": {
      "application/vnd.jupyter.widget-view+json": {
       "model_id": "85b66ad7773341b4b091696ab9173346",
       "version_major": 2,
       "version_minor": 0
      },
      "text/plain": [
       "interactive(children=(SelectionRangeSlider(description='Date Range', index=(0, 10097), layout=Layout(width='12…"
      ]
     },
     "metadata": {},
     "output_type": "display_data"
    }
   ],
   "source": [
    "#add the Rebased Adj Close Column\n",
    "\n",
    "# Ensure the Date column is in datetime format\n",
    "combined_df[\"Date\"] = pd.to_datetime(combined_df[\"Date\"])\n",
    "\n",
    "# Calculate the Rebased Adj Close column with proper index alignment\n",
    "combined_df = combined_df.set_index(\"Date\")\n",
    "combined_df[\"Rebased Adj Close\"] = combined_df.groupby(\"Symbol\")[\"Close\"].transform(\n",
    "    lambda x: (x / x.iloc[0]) * 100).values\n",
    "\n",
    "# Reset the index to restore the original dataframe structure\n",
    "combined_df = combined_df.reset_index()\n",
    "\n",
    "# Function to plot the chart based on selected date range and recalculate Rebased Adj Close based on slider\n",
    "\n",
    "def plot_filtered_chart(start_date, end_date):\n",
    "\n",
    "    # Filter the dataframe for the selected date range\n",
    "    filtered_df = combined_df[(combined_df[\"Date\"] >= start_date) & (combined_df[\"Date\"] <= end_date)].copy()\n",
    "    \n",
    "    # Recalculate the Rebased Adj Close based on the selected start_date\n",
    "    for symbol in filtered_df[\"Symbol\"].unique():\n",
    "        symbol_df = filtered_df[filtered_df[\"Symbol\"] == symbol]\n",
    "        if not symbol_df.empty:\n",
    "            start_close = symbol_df[symbol_df[\"Date\"] == start_date][\"Close\"]\n",
    "            if not start_close.empty:\n",
    "                start_close = start_close.iloc[0]\n",
    "                filtered_df.loc[filtered_df[\"Symbol\"] == symbol, \"Rebased Adj Close\"] = (\n",
    "                    filtered_df.loc[filtered_df[\"Symbol\"] == symbol, \"Close\"] / start_close * 100\n",
    "                )\n",
    "    \n",
    "    # Plot the filtered data\n",
    "    plt.figure(figsize=(14, 7))\n",
    "    sns.lineplot(data=filtered_df, x=\"Date\", y=\"Rebased Adj Close\", hue=\"Company Name\")\n",
    "    \n",
    "    plt.xlabel(\"Date\")\n",
    "    plt.ylabel(\"Rebased Adj Close\")\n",
    "    plt.legend(title=\"Company Name\")\n",
    "    plt.grid(True)\n",
    "    plt.show();\n",
    "\n",
    "# Date filter sliders using ipywidgets\n",
    "date_range_slider = widgets.SelectionRangeSlider(\n",
    "    options=[datetime.strftime(d, \"%Y-%m-%d\") for d in combined_df[\"Date\"].sort_values().unique()],\n",
    "    index=(0, len(combined_df[\"Date\"].unique())-1),\n",
    "    description=\"Date Range\",\n",
    "    orientation=\"horizontal\",\n",
    "    layout={\"width\": \"1200px\"}\n",
    ")\n",
    "\n",
    "# Interactive plot with the sliders\n",
    "def update_plot(date_range):\n",
    "    start_date = datetime.strptime(date_range[0], \"%Y-%m-%d\")\n",
    "    end_date = datetime.strptime(date_range[1], \"%Y-%m-%d\")\n",
    "    plot_filtered_chart(start_date, end_date)\n",
    "\n",
    "# Display the date range slider and interactive plot\n",
    "interact(update_plot, date_range=date_range_slider);\n"
   ]
  },
  {
   "cell_type": "code",
   "execution_count": null,
   "id": "f039bcd3-f783-42ea-88fc-bbd2eaeba29d",
   "metadata": {},
   "outputs": [],
   "source": [
    "#export to CSV to understand the data\n",
    "combined_df.to_csv(\"combined_data.csv\", index=False)"
   ]
  }
 ],
 "metadata": {
  "kernelspec": {
   "display_name": "Python 3 (ipykernel)",
   "language": "python",
   "name": "python3"
  },
  "language_info": {
   "codemirror_mode": {
    "name": "ipython",
    "version": 3
   },
   "file_extension": ".py",
   "mimetype": "text/x-python",
   "name": "python",
   "nbconvert_exporter": "python",
   "pygments_lexer": "ipython3",
   "version": "3.11.6"
  },
  "toc": {
   "base_numbering": 1
  }
 },
 "nbformat": 4,
 "nbformat_minor": 5
}
